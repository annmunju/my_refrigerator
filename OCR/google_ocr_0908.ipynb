{
 "cells": [
  {
   "cell_type": "code",
   "execution_count": 1,
   "metadata": {},
   "outputs": [],
   "source": [
    "import os\n",
    "import io\n",
    "import numpy as np\n",
    "import matplotlib.pyplot as plt\n",
    "import platform\n",
    "from PIL import ImageFont, ImageDraw, Image\n",
    " \n",
    "import cv2\n",
    "from google.cloud import vision"
   ]
  },
  {
   "cell_type": "code",
   "execution_count": 2,
   "metadata": {},
   "outputs": [],
   "source": [
    "def plt_imshow(title='image', img=None, figsize=(8 ,5)):\n",
    "    plt.figure(figsize=figsize)\n",
    " \n",
    "    if type(img) == list:\n",
    "        if type(title) == list:\n",
    "            titles = title\n",
    "        else:\n",
    "            titles = []\n",
    " \n",
    "            for i in range(len(img)):\n",
    "                titles.append(title)\n",
    " \n",
    "        for i in range(len(img)):\n",
    "            if len(img[i].shape) <= 2:\n",
    "                rgbImg = cv2.cvtColor(img[i], cv2.COLOR_GRAY2RGB)\n",
    "            else:\n",
    "                rgbImg = cv2.cvtColor(img[i], cv2.COLOR_BGR2RGB)\n",
    " \n",
    "            plt.subplot(1, len(img), i + 1), plt.imshow(rgbImg)\n",
    "            plt.title(titles[i])\n",
    "            plt.xticks([]), plt.yticks([])\n",
    " \n",
    "        plt.show()\n",
    "    else:\n",
    "        if len(img.shape) < 3:\n",
    "            rgbImg = cv2.cvtColor(img, cv2.COLOR_GRAY2RGB)\n",
    "        else:\n",
    "            rgbImg = cv2.cvtColor(img, cv2.COLOR_BGR2RGB)\n",
    " \n",
    "        plt.imshow(rgbImg)\n",
    "        plt.title(title)\n",
    "        plt.xticks([]), plt.yticks([])\n",
    "        plt.show()"
   ]
  },
  {
   "cell_type": "code",
   "execution_count": 3,
   "metadata": {},
   "outputs": [],
   "source": [
    "def putText(image, text, x, y, color=(0, 255, 0), font_size=22):\n",
    "    if type(image) == np.ndarray:\n",
    "        color_coverted = cv2.cvtColor(image, cv2.COLOR_BGR2RGB)\n",
    "        image = Image.fromarray(color_coverted)\n",
    " \n",
    "    if platform.system() == 'Darwin':\n",
    "        font = 'AppleGothic.ttf'\n",
    "    elif platform.system() == 'Windows':\n",
    "        font = 'malgun.ttf'\n",
    "        \n",
    "    image_font = ImageFont.truetype(font, font_size)\n",
    "    font = ImageFont.load_default()\n",
    "    draw = ImageDraw.Draw(image)\n",
    " \n",
    "    draw.text((x, y), text, font=image_font, fill=color)\n",
    "    \n",
    "    numpy_image = np.array(image)\n",
    "    opencv_image = cv2.cvtColor(numpy_image, cv2.COLOR_RGB2BGR)\n",
    " \n",
    "    return opencv_image"
   ]
  },
  {
   "cell_type": "code",
   "execution_count": 4,
   "metadata": {},
   "outputs": [],
   "source": [
    "!export GOOGLE_APPLICATION_CREDENTIALS=\"useocr-361607-83f7c570923c.json\""
   ]
  },
  {
   "cell_type": "code",
   "execution_count": 7,
   "metadata": {},
   "outputs": [
    {
     "ename": "AttributeError",
     "evalue": "'ClientOptions' object has no attribute 'api_audience'",
     "output_type": "error",
     "traceback": [
      "\u001b[0;31m---------------------------------------------------------------------------\u001b[0m",
      "\u001b[0;31mAttributeError\u001b[0m                            Traceback (most recent call last)",
      "\u001b[1;32m/Users/anmunju/Documents/PJ_repositories/my_refrigerator/OCR/google_ocr_0908.ipynb 셀 6\u001b[0m in \u001b[0;36m<module>\u001b[0;34m\u001b[0m\n\u001b[1;32m      <a href='vscode-notebook-cell:/Users/anmunju/Documents/PJ_repositories/my_refrigerator/OCR/google_ocr_0908.ipynb#W4sZmlsZQ%3D%3D?line=0'>1</a>\u001b[0m os\u001b[39m.\u001b[39menviron[\u001b[39m'\u001b[39m\u001b[39mGOOGLE_APPLICATION_CREDENTIALS\u001b[39m\u001b[39m'\u001b[39m] \u001b[39m=\u001b[39m \u001b[39m\"\u001b[39m\u001b[39museocr-361607-83f7c570923c.json\u001b[39m\u001b[39m\"\u001b[39m\n\u001b[1;32m      <a href='vscode-notebook-cell:/Users/anmunju/Documents/PJ_repositories/my_refrigerator/OCR/google_ocr_0908.ipynb#W4sZmlsZQ%3D%3D?line=2'>3</a>\u001b[0m \u001b[39m# client_options = {'api_endpoint': 'eu-vision.googleapis.com'}\u001b[39;00m\n\u001b[0;32m----> <a href='vscode-notebook-cell:/Users/anmunju/Documents/PJ_repositories/my_refrigerator/OCR/google_ocr_0908.ipynb#W4sZmlsZQ%3D%3D?line=3'>4</a>\u001b[0m client \u001b[39m=\u001b[39m vision\u001b[39m.\u001b[39;49mImageAnnotatorClient()\n",
      "File \u001b[0;32m/opt/homebrew/Caskroom/miniforge/base/envs/multi_crawling/lib/python3.9/site-packages/google/cloud/vision_v1/services/image_annotator/client.py:456\u001b[0m, in \u001b[0;36mImageAnnotatorClient.__init__\u001b[0;34m(self, credentials, transport, client_options, client_info)\u001b[0m\n\u001b[1;32m    442\u001b[0m     credentials \u001b[39m=\u001b[39m google\u001b[39m.\u001b[39mauth\u001b[39m.\u001b[39m_default\u001b[39m.\u001b[39mget_api_key_credentials(\n\u001b[1;32m    443\u001b[0m         api_key_value\n\u001b[1;32m    444\u001b[0m     )\n\u001b[1;32m    446\u001b[0m Transport \u001b[39m=\u001b[39m \u001b[39mtype\u001b[39m(\u001b[39mself\u001b[39m)\u001b[39m.\u001b[39mget_transport_class(transport)\n\u001b[1;32m    447\u001b[0m \u001b[39mself\u001b[39m\u001b[39m.\u001b[39m_transport \u001b[39m=\u001b[39m Transport(\n\u001b[1;32m    448\u001b[0m     credentials\u001b[39m=\u001b[39mcredentials,\n\u001b[1;32m    449\u001b[0m     credentials_file\u001b[39m=\u001b[39mclient_options\u001b[39m.\u001b[39mcredentials_file,\n\u001b[1;32m    450\u001b[0m     host\u001b[39m=\u001b[39mapi_endpoint,\n\u001b[1;32m    451\u001b[0m     scopes\u001b[39m=\u001b[39mclient_options\u001b[39m.\u001b[39mscopes,\n\u001b[1;32m    452\u001b[0m     client_cert_source_for_mtls\u001b[39m=\u001b[39mclient_cert_source_func,\n\u001b[1;32m    453\u001b[0m     quota_project_id\u001b[39m=\u001b[39mclient_options\u001b[39m.\u001b[39mquota_project_id,\n\u001b[1;32m    454\u001b[0m     client_info\u001b[39m=\u001b[39mclient_info,\n\u001b[1;32m    455\u001b[0m     always_use_jwt_access\u001b[39m=\u001b[39m\u001b[39mTrue\u001b[39;00m,\n\u001b[0;32m--> 456\u001b[0m     api_audience\u001b[39m=\u001b[39mclient_options\u001b[39m.\u001b[39;49mapi_audience,\n\u001b[1;32m    457\u001b[0m )\n",
      "\u001b[0;31mAttributeError\u001b[0m: 'ClientOptions' object has no attribute 'api_audience'"
     ]
    }
   ],
   "source": [
    "os.environ['GOOGLE_APPLICATION_CREDENTIALS'] = \"useocr-361607-83f7c570923c.json\"\n",
    " \n",
    "# client_options = {'api_endpoint': 'eu-vision.googleapis.com'}\n",
    "client = vision.ImageAnnotatorClient()"
   ]
  },
  {
   "cell_type": "code",
   "execution_count": null,
   "metadata": {},
   "outputs": [],
   "source": [
    "path = './sample'\n",
    "with io.open(path, 'rb') as image_file:\n",
    "    content = image_file.read()"
   ]
  },
  {
   "cell_type": "code",
   "execution_count": null,
   "metadata": {},
   "outputs": [],
   "source": [
    "image = vision.Image(content=content)\n",
    " \n",
    "response = client.text_detection(image=image)\n",
    "texts = response.text_annotations"
   ]
  },
  {
   "cell_type": "code",
   "execution_count": null,
   "metadata": {},
   "outputs": [],
   "source": [
    "img = cv2.imread(path)\n",
    "roi_img = img.copy()\n",
    "    \n",
    "for text in texts:\n",
    "    print('\\n\"{}\"'.format(text.description))\n",
    " \n",
    "    vertices = (['({},{})'.format(vertex.x, vertex.y)\n",
    "                for vertex in text.bounding_poly.vertices])\n",
    "    \n",
    "    ocr_text = text.description\n",
    "    x1 = text.bounding_poly.vertices[0].x\n",
    "    y1 = text.bounding_poly.vertices[0].y\n",
    "    x2 = text.bounding_poly.vertices[1].x\n",
    "    y2 = text.bounding_poly.vertices[2].y\n",
    "    \n",
    "    cv2.rectangle(roi_img, (int(x1), int(y1)), (int(x2), int(y2)), (0,255,0), 2)\n",
    "    roi_img = putText(roi_img, ocr_text, x1, y1 - 30, font_size=30)\n",
    " \n",
    "if response.error.message:\n",
    "    raise Exception(\n",
    "        '{}\\nFor more info on error messages, check: '\n",
    "        'https://cloud.google.com/apis/design/errors'.format(\n",
    "            response.error.message))\n",
    "    \n",
    "plt_imshow([\"Original\", \"ROI\"], [img, roi_img], figsize=(16, 10))"
   ]
  }
 ],
 "metadata": {
  "kernelspec": {
   "display_name": "Python 3.9.0 ('multi_crawling')",
   "language": "python",
   "name": "python3"
  },
  "language_info": {
   "codemirror_mode": {
    "name": "ipython",
    "version": 3
   },
   "file_extension": ".py",
   "mimetype": "text/x-python",
   "name": "python",
   "nbconvert_exporter": "python",
   "pygments_lexer": "ipython3",
   "version": "3.9.0"
  },
  "orig_nbformat": 4,
  "vscode": {
   "interpreter": {
    "hash": "ecab3b44ec85b3fc152ce43053029da2d7fea401295eddadd715c90b258d02c3"
   }
  }
 },
 "nbformat": 4,
 "nbformat_minor": 2
}
